{
 "cells": [
  {
   "cell_type": "markdown",
   "id": "4ce6985e",
   "metadata": {
    "papermill": {
     "duration": 0.012419,
     "end_time": "2024-11-14T03:13:27.739433",
     "exception": false,
     "start_time": "2024-11-14T03:13:27.727014",
     "status": "completed"
    },
    "tags": []
   },
   "source": [
    "# IMDB MOVIE REVIEW SENTIMENT ANALYSIS"
   ]
  },
  {
   "cell_type": "code",
   "execution_count": 1,
   "id": "e977beba",
   "metadata": {
    "_cell_guid": "b1076dfc-b9ad-4769-8c92-a6c4dae69d19",
    "_uuid": "8f2839f25d086af736a60e9eeb907d3b93b6e0e5",
    "execution": {
     "iopub.execute_input": "2024-11-14T03:13:27.765663Z",
     "iopub.status.busy": "2024-11-14T03:13:27.765097Z",
     "iopub.status.idle": "2024-11-14T03:13:28.751345Z",
     "shell.execute_reply": "2024-11-14T03:13:28.750159Z"
    },
    "papermill": {
     "duration": 1.002378,
     "end_time": "2024-11-14T03:13:28.754102",
     "exception": false,
     "start_time": "2024-11-14T03:13:27.751724",
     "status": "completed"
    },
    "tags": []
   },
   "outputs": [
    {
     "name": "stdout",
     "output_type": "stream",
     "text": [
      "/kaggle/input/imdb-dataset-of-50k-movie-reviews/IMDB Dataset.csv\n"
     ]
    }
   ],
   "source": [
    "# This Python 3 environment comes with many helpful analytics libraries installed\n",
    "# It is defined by the kaggle/python Docker image: https://github.com/kaggle/docker-python\n",
    "# For example, here's several helpful packages to load\n",
    "\n",
    "import numpy as np # linear algebra\n",
    "import pandas as pd # data processing, CSV file I/O (e.g. pd.read_csv)\n",
    "\n",
    "# Input data files are available in the read-only \"../input/\" directory\n",
    "# For example, running this (by clicking run or pressing Shift+Enter) will list all files under the input directory\n",
    "\n",
    "import os\n",
    "for dirname, _, filenames in os.walk('/kaggle/input'):\n",
    "    for filename in filenames:\n",
    "        print(os.path.join(dirname, filename))\n",
    "\n",
    "# You can write up to 20GB to the current directory (/kaggle/working/) that gets preserved as output when you create a version using \"Save & Run All\" \n",
    "# You can also write temporary files to /kaggle/temp/, but they won't be saved outside of the current session"
   ]
  },
  {
   "cell_type": "code",
   "execution_count": 2,
   "id": "83e8b39d",
   "metadata": {
    "execution": {
     "iopub.execute_input": "2024-11-14T03:13:28.779982Z",
     "iopub.status.busy": "2024-11-14T03:13:28.779321Z",
     "iopub.status.idle": "2024-11-14T03:13:31.601880Z",
     "shell.execute_reply": "2024-11-14T03:13:31.600781Z"
    },
    "papermill": {
     "duration": 2.839441,
     "end_time": "2024-11-14T03:13:31.605496",
     "exception": false,
     "start_time": "2024-11-14T03:13:28.766055",
     "status": "completed"
    },
    "tags": []
   },
   "outputs": [],
   "source": [
    "# Importing relevant packages\n",
    "import numpy as np\n",
    "import pandas as pd\n",
    "import matplotlib.pyplot as plt\n",
    "import seaborn as sns\n",
    "from textblob import TextBlob\n",
    "from tqdm.notebook import tqdm\n",
    "from sklearn.metrics import accuracy_score, classification_report, confusion_matrix\n",
    "plt.style.use(\"ggplot\")\n",
    "import re\n",
    "import warnings\n",
    "warnings.filterwarnings('ignore')\n"
   ]
  },
  {
   "cell_type": "markdown",
   "id": "aceb4aa1",
   "metadata": {
    "papermill": {
     "duration": 0.01169,
     "end_time": "2024-11-14T03:13:31.630048",
     "exception": false,
     "start_time": "2024-11-14T03:13:31.618358",
     "status": "completed"
    },
    "tags": []
   },
   "source": [
    "### Loading the dataset"
   ]
  },
  {
   "cell_type": "code",
   "execution_count": 3,
   "id": "b6a82135",
   "metadata": {
    "execution": {
     "iopub.execute_input": "2024-11-14T03:13:31.657023Z",
     "iopub.status.busy": "2024-11-14T03:13:31.656377Z",
     "iopub.status.idle": "2024-11-14T03:13:33.264674Z",
     "shell.execute_reply": "2024-11-14T03:13:33.263443Z"
    },
    "papermill": {
     "duration": 1.62478,
     "end_time": "2024-11-14T03:13:33.267255",
     "exception": false,
     "start_time": "2024-11-14T03:13:31.642475",
     "status": "completed"
    },
    "tags": []
   },
   "outputs": [
    {
     "data": {
      "text/html": [
       "<div>\n",
       "<style scoped>\n",
       "    .dataframe tbody tr th:only-of-type {\n",
       "        vertical-align: middle;\n",
       "    }\n",
       "\n",
       "    .dataframe tbody tr th {\n",
       "        vertical-align: top;\n",
       "    }\n",
       "\n",
       "    .dataframe thead th {\n",
       "        text-align: right;\n",
       "    }\n",
       "</style>\n",
       "<table border=\"1\" class=\"dataframe\">\n",
       "  <thead>\n",
       "    <tr style=\"text-align: right;\">\n",
       "      <th></th>\n",
       "      <th>review</th>\n",
       "      <th>sentiment</th>\n",
       "    </tr>\n",
       "  </thead>\n",
       "  <tbody>\n",
       "    <tr>\n",
       "      <th>33553</th>\n",
       "      <td>I really liked this Summerslam due to the look...</td>\n",
       "      <td>positive</td>\n",
       "    </tr>\n",
       "    <tr>\n",
       "      <th>9427</th>\n",
       "      <td>Not many television shows appeal to quite as m...</td>\n",
       "      <td>positive</td>\n",
       "    </tr>\n",
       "    <tr>\n",
       "      <th>199</th>\n",
       "      <td>The film quickly gets to a major chase scene w...</td>\n",
       "      <td>negative</td>\n",
       "    </tr>\n",
       "    <tr>\n",
       "      <th>12447</th>\n",
       "      <td>Jane Austen would definitely approve of this o...</td>\n",
       "      <td>positive</td>\n",
       "    </tr>\n",
       "    <tr>\n",
       "      <th>39489</th>\n",
       "      <td>Expectations were somewhat high for me when I ...</td>\n",
       "      <td>negative</td>\n",
       "    </tr>\n",
       "  </tbody>\n",
       "</table>\n",
       "</div>"
      ],
      "text/plain": [
       "                                                  review sentiment\n",
       "33553  I really liked this Summerslam due to the look...  positive\n",
       "9427   Not many television shows appeal to quite as m...  positive\n",
       "199    The film quickly gets to a major chase scene w...  negative\n",
       "12447  Jane Austen would definitely approve of this o...  positive\n",
       "39489  Expectations were somewhat high for me when I ...  negative"
      ]
     },
     "metadata": {},
     "output_type": "display_data"
    },
    {
     "name": "stdout",
     "output_type": "stream",
     "text": [
      "(10000, 2)\n",
      "(9978, 2)\n"
     ]
    }
   ],
   "source": [
    "reviews_df = pd.read_csv('/kaggle/input/imdb-dataset-of-50k-movie-reviews/IMDB Dataset.csv')\n",
    "reviews_df = reviews_df.sample(n = 10000, random_state = 42)\n",
    "display(reviews_df.head())\n",
    "# checking the shape of our data set\n",
    "print(reviews_df.shape)\n",
    "# dropping any duplicates if there be any\n",
    "reviews_df.drop_duplicates(inplace = True)\n",
    "# Checking the shape of our dataframe again\n",
    "print(reviews_df.shape)"
   ]
  },
  {
   "cell_type": "markdown",
   "id": "01027688",
   "metadata": {
    "papermill": {
     "duration": 0.011657,
     "end_time": "2024-11-14T03:13:33.290978",
     "exception": false,
     "start_time": "2024-11-14T03:13:33.279321",
     "status": "completed"
    },
    "tags": []
   },
   "source": [
    "### Checking data types and missingness in our data"
   ]
  },
  {
   "cell_type": "code",
   "execution_count": 4,
   "id": "2f417c5b",
   "metadata": {
    "execution": {
     "iopub.execute_input": "2024-11-14T03:13:33.317929Z",
     "iopub.status.busy": "2024-11-14T03:13:33.317169Z",
     "iopub.status.idle": "2024-11-14T03:13:33.346227Z",
     "shell.execute_reply": "2024-11-14T03:13:33.343786Z"
    },
    "papermill": {
     "duration": 0.045714,
     "end_time": "2024-11-14T03:13:33.349197",
     "exception": false,
     "start_time": "2024-11-14T03:13:33.303483",
     "status": "completed"
    },
    "tags": []
   },
   "outputs": [
    {
     "name": "stdout",
     "output_type": "stream",
     "text": [
      "<class 'pandas.core.frame.DataFrame'>\n",
      "Index: 9978 entries, 33553 to 5857\n",
      "Data columns (total 2 columns):\n",
      " #   Column     Non-Null Count  Dtype \n",
      "---  ------     --------------  ----- \n",
      " 0   review     9978 non-null   object\n",
      " 1   sentiment  9978 non-null   object\n",
      "dtypes: object(2)\n",
      "memory usage: 233.9+ KB\n"
     ]
    }
   ],
   "source": [
    "reviews_df.info()"
   ]
  },
  {
   "cell_type": "markdown",
   "id": "09766945",
   "metadata": {
    "papermill": {
     "duration": 0.015027,
     "end_time": "2024-11-14T03:13:33.380480",
     "exception": false,
     "start_time": "2024-11-14T03:13:33.365453",
     "status": "completed"
    },
    "tags": []
   },
   "source": [
    "There appears to be no missing values in either columns. Next we will check the count of unique values in either columns to ensure data integrity.\n",
    "\n",
    "### Data integrity"
   ]
  },
  {
   "cell_type": "code",
   "execution_count": 5,
   "id": "72f4304e",
   "metadata": {
    "execution": {
     "iopub.execute_input": "2024-11-14T03:13:33.411228Z",
     "iopub.status.busy": "2024-11-14T03:13:33.410645Z",
     "iopub.status.idle": "2024-11-14T03:13:33.458292Z",
     "shell.execute_reply": "2024-11-14T03:13:33.456848Z"
    },
    "papermill": {
     "duration": 0.064176,
     "end_time": "2024-11-14T03:13:33.460754",
     "exception": false,
     "start_time": "2024-11-14T03:13:33.396578",
     "status": "completed"
    },
    "tags": []
   },
   "outputs": [
    {
     "name": "stdout",
     "output_type": "stream",
     "text": [
      "9978\n",
      "2\n"
     ]
    }
   ],
   "source": [
    "print(reviews_df['review'].nunique())\n",
    "print(reviews_df['sentiment'].nunique())"
   ]
  },
  {
   "cell_type": "code",
   "execution_count": 6,
   "id": "702fb107",
   "metadata": {
    "execution": {
     "iopub.execute_input": "2024-11-14T03:13:33.488290Z",
     "iopub.status.busy": "2024-11-14T03:13:33.487817Z",
     "iopub.status.idle": "2024-11-14T03:13:34.138233Z",
     "shell.execute_reply": "2024-11-14T03:13:34.137129Z"
    },
    "papermill": {
     "duration": 0.667876,
     "end_time": "2024-11-14T03:13:34.140990",
     "exception": false,
     "start_time": "2024-11-14T03:13:33.473114",
     "status": "completed"
    },
    "tags": []
   },
   "outputs": [],
   "source": [
    "reviews_df['review'] = reviews_df['review'].apply(lambda x: re.sub(r'<\\s*br\\s*/?\\s*>\\s*', '', x))\n",
    "reviews_df['review'] = reviews_df['review'].apply(lambda x: re.sub(r'[^a-zA-Z\\s]', '', x.lower()))"
   ]
  },
  {
   "cell_type": "markdown",
   "id": "0c7153c6",
   "metadata": {
    "papermill": {
     "duration": 0.012361,
     "end_time": "2024-11-14T03:13:34.165796",
     "exception": false,
     "start_time": "2024-11-14T03:13:34.153435",
     "status": "completed"
    },
    "tags": []
   },
   "source": []
  },
  {
   "cell_type": "markdown",
   "id": "8233d86b",
   "metadata": {
    "papermill": {
     "duration": 0.012451,
     "end_time": "2024-11-14T03:13:34.190603",
     "exception": false,
     "start_time": "2024-11-14T03:13:34.178152",
     "status": "completed"
    },
    "tags": []
   },
   "source": [
    "There are 49582 unique reviews as expected and 2 unique sentiment values as expected. Data intgrity is therefore verified.\n",
    "\n",
    "Next, we will create two columns, the `polarity` column which will hold the sentiment scores ranging from -1 to 1 and the `subjectivity` column which will hold the subjectivity scores ranging from 0 to 1."
   ]
  },
  {
   "cell_type": "code",
   "execution_count": 7,
   "id": "9099ffa1",
   "metadata": {
    "execution": {
     "iopub.execute_input": "2024-11-14T03:13:34.218338Z",
     "iopub.status.busy": "2024-11-14T03:13:34.217862Z",
     "iopub.status.idle": "2024-11-14T03:13:54.804149Z",
     "shell.execute_reply": "2024-11-14T03:13:54.802952Z"
    },
    "papermill": {
     "duration": 20.604045,
     "end_time": "2024-11-14T03:13:54.807231",
     "exception": false,
     "start_time": "2024-11-14T03:13:34.203186",
     "status": "completed"
    },
    "tags": []
   },
   "outputs": [
    {
     "data": {
      "application/vnd.jupyter.widget-view+json": {
       "model_id": "4632f5d02c7b4075a69adface2b108d9",
       "version_major": 2,
       "version_minor": 0
      },
      "text/plain": [
       "  0%|          | 0/9978 [00:00<?, ?it/s]"
      ]
     },
     "metadata": {},
     "output_type": "display_data"
    }
   ],
   "source": [
    "tqdm.pandas()\n",
    "reviews_df['polarity'] = reviews_df['review'].progress_apply(lambda review: TextBlob(review).sentiment.polarity)"
   ]
  },
  {
   "cell_type": "code",
   "execution_count": 8,
   "id": "1e17758b",
   "metadata": {
    "execution": {
     "iopub.execute_input": "2024-11-14T03:13:54.835246Z",
     "iopub.status.busy": "2024-11-14T03:13:54.834652Z",
     "iopub.status.idle": "2024-11-14T03:14:15.276546Z",
     "shell.execute_reply": "2024-11-14T03:14:15.275305Z"
    },
    "papermill": {
     "duration": 20.458872,
     "end_time": "2024-11-14T03:14:15.279303",
     "exception": false,
     "start_time": "2024-11-14T03:13:54.820431",
     "status": "completed"
    },
    "tags": []
   },
   "outputs": [
    {
     "data": {
      "application/vnd.jupyter.widget-view+json": {
       "model_id": "948252fe9bc142a7a0743a8a8d54b23e",
       "version_major": 2,
       "version_minor": 0
      },
      "text/plain": [
       "Processing subjectivity scores:   0%|          | 0/9978 [00:00<?, ?it/s]"
      ]
     },
     "metadata": {},
     "output_type": "display_data"
    }
   ],
   "source": [
    "reviews_df['subjectivity'] = [TextBlob(review).sentiment.subjectivity for review in tqdm(reviews_df['review'], desc = 'Processing subjectivity scores',leave = False )]"
   ]
  },
  {
   "cell_type": "code",
   "execution_count": 9,
   "id": "d3521802",
   "metadata": {
    "execution": {
     "iopub.execute_input": "2024-11-14T03:14:15.308355Z",
     "iopub.status.busy": "2024-11-14T03:14:15.307313Z",
     "iopub.status.idle": "2024-11-14T03:14:15.324431Z",
     "shell.execute_reply": "2024-11-14T03:14:15.323174Z"
    },
    "papermill": {
     "duration": 0.034023,
     "end_time": "2024-11-14T03:14:15.327019",
     "exception": false,
     "start_time": "2024-11-14T03:14:15.292996",
     "status": "completed"
    },
    "tags": []
   },
   "outputs": [
    {
     "data": {
      "text/html": [
       "<div>\n",
       "<style scoped>\n",
       "    .dataframe tbody tr th:only-of-type {\n",
       "        vertical-align: middle;\n",
       "    }\n",
       "\n",
       "    .dataframe tbody tr th {\n",
       "        vertical-align: top;\n",
       "    }\n",
       "\n",
       "    .dataframe thead th {\n",
       "        text-align: right;\n",
       "    }\n",
       "</style>\n",
       "<table border=\"1\" class=\"dataframe\">\n",
       "  <thead>\n",
       "    <tr style=\"text-align: right;\">\n",
       "      <th></th>\n",
       "      <th>review</th>\n",
       "      <th>sentiment</th>\n",
       "      <th>polarity</th>\n",
       "      <th>subjectivity</th>\n",
       "    </tr>\n",
       "  </thead>\n",
       "  <tbody>\n",
       "    <tr>\n",
       "      <th>33553</th>\n",
       "      <td>i really liked this summerslam due to the look...</td>\n",
       "      <td>positive</td>\n",
       "      <td>-0.003968</td>\n",
       "      <td>0.630159</td>\n",
       "    </tr>\n",
       "    <tr>\n",
       "      <th>9427</th>\n",
       "      <td>not many television shows appeal to quite as m...</td>\n",
       "      <td>positive</td>\n",
       "      <td>0.147394</td>\n",
       "      <td>0.466574</td>\n",
       "    </tr>\n",
       "    <tr>\n",
       "      <th>199</th>\n",
       "      <td>the film quickly gets to a major chase scene w...</td>\n",
       "      <td>negative</td>\n",
       "      <td>0.204167</td>\n",
       "      <td>0.463636</td>\n",
       "    </tr>\n",
       "    <tr>\n",
       "      <th>12447</th>\n",
       "      <td>jane austen would definitely approve of this o...</td>\n",
       "      <td>positive</td>\n",
       "      <td>0.376923</td>\n",
       "      <td>0.621154</td>\n",
       "    </tr>\n",
       "    <tr>\n",
       "      <th>39489</th>\n",
       "      <td>expectations were somewhat high for me when i ...</td>\n",
       "      <td>negative</td>\n",
       "      <td>0.045031</td>\n",
       "      <td>0.552610</td>\n",
       "    </tr>\n",
       "  </tbody>\n",
       "</table>\n",
       "</div>"
      ],
      "text/plain": [
       "                                                  review sentiment  polarity  \\\n",
       "33553  i really liked this summerslam due to the look...  positive -0.003968   \n",
       "9427   not many television shows appeal to quite as m...  positive  0.147394   \n",
       "199    the film quickly gets to a major chase scene w...  negative  0.204167   \n",
       "12447  jane austen would definitely approve of this o...  positive  0.376923   \n",
       "39489  expectations were somewhat high for me when i ...  negative  0.045031   \n",
       "\n",
       "       subjectivity  \n",
       "33553      0.630159  \n",
       "9427       0.466574  \n",
       "199        0.463636  \n",
       "12447      0.621154  \n",
       "39489      0.552610  "
      ]
     },
     "metadata": {},
     "output_type": "display_data"
    }
   ],
   "source": [
    "display(reviews_df.head())"
   ]
  },
  {
   "cell_type": "markdown",
   "id": "27434863",
   "metadata": {
    "papermill": {
     "duration": 0.012601,
     "end_time": "2024-11-14T03:14:15.353913",
     "exception": false,
     "start_time": "2024-11-14T03:14:15.341312",
     "status": "completed"
    },
    "tags": []
   },
   "source": [
    "## Exploratory data analysis"
   ]
  },
  {
   "cell_type": "code",
   "execution_count": 10,
   "id": "97da44f1",
   "metadata": {
    "execution": {
     "iopub.execute_input": "2024-11-14T03:14:15.382676Z",
     "iopub.status.busy": "2024-11-14T03:14:15.382256Z",
     "iopub.status.idle": "2024-11-14T03:14:15.389807Z",
     "shell.execute_reply": "2024-11-14T03:14:15.388552Z"
    },
    "papermill": {
     "duration": 0.025473,
     "end_time": "2024-11-14T03:14:15.392445",
     "exception": false,
     "start_time": "2024-11-14T03:14:15.366972",
     "status": "completed"
    },
    "tags": []
   },
   "outputs": [
    {
     "name": "stdout",
     "output_type": "stream",
     "text": [
      "0\n",
      "0\n"
     ]
    }
   ],
   "source": [
    "print(reviews_df['polarity'].isna().sum())\n",
    "print(reviews_df['subjectivity'].isna().sum())"
   ]
  },
  {
   "cell_type": "markdown",
   "id": "e7589c93",
   "metadata": {
    "papermill": {
     "duration": 0.012759,
     "end_time": "2024-11-14T03:14:15.418803",
     "exception": false,
     "start_time": "2024-11-14T03:14:15.406044",
     "status": "completed"
    },
    "tags": []
   },
   "source": [
    "\n",
    "\n",
    "### A countplot of sentiments"
   ]
  },
  {
   "cell_type": "code",
   "execution_count": 11,
   "id": "582b3140",
   "metadata": {
    "execution": {
     "iopub.execute_input": "2024-11-14T03:14:15.447877Z",
     "iopub.status.busy": "2024-11-14T03:14:15.447441Z",
     "iopub.status.idle": "2024-11-14T03:14:15.770562Z",
     "shell.execute_reply": "2024-11-14T03:14:15.769356Z"
    },
    "papermill": {
     "duration": 0.341602,
     "end_time": "2024-11-14T03:14:15.773675",
     "exception": false,
     "start_time": "2024-11-14T03:14:15.432073",
     "status": "completed"
    },
    "tags": []
   },
   "outputs": [
    {
     "data": {
      "image/png": "[encoded data removed]",
      "text/plain": [
       "<Figure size 400x300 with 1 Axes>"
      ]
     },
     "metadata": {},
     "output_type": "display_data"
    }
   ],
   "source": [
    "plt.figure(figsize = (4,3))\n",
    "sns.set_palette('colorblind')\n",
    "sns.set_style('whitegrid')\n",
    "sns.countplot(data = reviews_df, x = 'sentiment')\n",
    "plt.title(\"A Countplot of Sentiments\")\n",
    "plt.show()"
   ]
  },
  {
   "cell_type": "markdown",
   "id": "8e6bd373",
   "metadata": {
    "papermill": {
     "duration": 0.013029,
     "end_time": "2024-11-14T03:14:15.800797",
     "exception": false,
     "start_time": "2024-11-14T03:14:15.787768",
     "status": "completed"
    },
    "tags": []
   },
   "source": [
    "From the above, we can see that the number of positive and negative sentiments is around the same. Next, we will have a look at the distribution of `polarity` scores and `subjectivity` scores."
   ]
  },
  {
   "cell_type": "code",
   "execution_count": 12,
   "id": "f2a161dc",
   "metadata": {
    "execution": {
     "iopub.execute_input": "2024-11-14T03:14:15.830061Z",
     "iopub.status.busy": "2024-11-14T03:14:15.829150Z",
     "iopub.status.idle": "2024-11-14T03:14:17.958682Z",
     "shell.execute_reply": "2024-11-14T03:14:17.957491Z"
    },
    "papermill": {
     "duration": 2.146801,
     "end_time": "2024-11-14T03:14:17.961075",
     "exception": false,
     "start_time": "2024-11-14T03:14:15.814274",
     "status": "completed"
    },
    "tags": []
   },
   "outputs": [
    {
     "data": {
      "image/png": "[encoded data removed]",
      "text/plain": [
       "<Figure size 800x600 with 4 Axes>"
      ]
     },
     "metadata": {},
     "output_type": "display_data"
    }
   ],
   "source": [
    "fig, ax = plt.subplots(2,2, figsize=(8,6))\n",
    "sns.set_style('whitegrid')\n",
    "sns.set_palette('colorblind')\n",
    "sns.histplot(data = reviews_df, x = 'polarity', ax = ax[0,0], hue = 'sentiment', alpha = 0.5)\n",
    "ax[0,0].set_title(\"A histogram of polarity scores\", fontsize = 11)\n",
    "sns.histplot(data = reviews_df, x = 'subjectivity', ax = ax[0,1], hue = 'sentiment', alpha = 0.5)\n",
    "ax[0,1].set_title(\"A histogram of subjectivity scores\", fontsize = 11)\n",
    "sns.boxplot(data = reviews_df, x = 'polarity', ax = ax[1,0])\n",
    "ax[1,0].set_title(\"A boxplot of polarity scores\", fontsize = 11)\n",
    "sns.boxplot(data = reviews_df, x = 'subjectivity', ax = ax[1,1])\n",
    "ax[1,1].set_title(\"A boxplot of subjectivity scores\",fontsize = 11)\n",
    "plt.subplots_adjust(hspace=1)\n",
    "plt.show()"
   ]
  },
  {
   "cell_type": "markdown",
   "id": "04c77431",
   "metadata": {
    "papermill": {
     "duration": 0.013974,
     "end_time": "2024-11-14T03:14:17.989620",
     "exception": false,
     "start_time": "2024-11-14T03:14:17.975646",
     "status": "completed"
    },
    "tags": []
   },
   "source": [
    "From the above, we can see that generally, the `polarity` scores of `review`s categorized as positive are higher than those of `review`s categorized as negative. It is worth noting however thayt there is a substantial overlap between the polarity scores of the two categories.\n",
    "\n",
    "The `subjectivity` scores of either categories have a similar distribution as shown in the histogram on `subjectivity`, with a median of about 0.5 as shown in the boxplot on `subjectivity` scores."
   ]
  },
  {
   "cell_type": "markdown",
   "id": "e5830459",
   "metadata": {
    "papermill": {
     "duration": 0.013976,
     "end_time": "2024-11-14T03:14:18.018045",
     "exception": false,
     "start_time": "2024-11-14T03:14:18.004069",
     "status": "completed"
    },
    "tags": []
   },
   "source": [
    "## Most positive and most negative reviews"
   ]
  },
  {
   "cell_type": "code",
   "execution_count": 13,
   "id": "2562fb75",
   "metadata": {
    "execution": {
     "iopub.execute_input": "2024-11-14T03:14:18.048675Z",
     "iopub.status.busy": "2024-11-14T03:14:18.048178Z",
     "iopub.status.idle": "2024-11-14T03:14:18.056758Z",
     "shell.execute_reply": "2024-11-14T03:14:18.055518Z"
    },
    "papermill": {
     "duration": 0.0268,
     "end_time": "2024-11-14T03:14:18.059178",
     "exception": false,
     "start_time": "2024-11-14T03:14:18.032378",
     "status": "completed"
    },
    "tags": []
   },
   "outputs": [
    {
     "name": "stdout",
     "output_type": "stream",
     "text": [
      "The most positive review is: brilliant and moving performances by tom courtenay and peter finch\n",
      "\n",
      "\n",
      "The most negative review is: sophia loren plays aida in one of the worst films of all time she cant lipsync in terms of production values the film is so bad that at one point while loren is mouthing o patria mia she leans onto what looks to be a stone wall for support and the canvas set billows and shakes\n"
     ]
    }
   ],
   "source": [
    "most_positive = reviews_df.loc[reviews_df['polarity'].idxmax()]\n",
    "most_negative = reviews_df.loc[reviews_df['polarity'].idxmin()]\n",
    "print(f\"The most positive review is: {most_positive['review']}\")\n",
    "print(\"\\n\")\n",
    "print(f\"The most negative review is: {most_negative['review']}\")"
   ]
  },
  {
   "cell_type": "markdown",
   "id": "d2e1954a",
   "metadata": {
    "papermill": {
     "duration": 0.014177,
     "end_time": "2024-11-14T03:14:18.087821",
     "exception": false,
     "start_time": "2024-11-14T03:14:18.073644",
     "status": "completed"
    },
    "tags": []
   },
   "source": [
    "As it can be seen in the above texts, the most positive review is indeed truly positive and the most negative - well, that too is extraordinary in that context."
   ]
  },
  {
   "cell_type": "markdown",
   "id": "44b06fef",
   "metadata": {
    "papermill": {
     "duration": 0.014063,
     "end_time": "2024-11-14T03:14:18.116355",
     "exception": false,
     "start_time": "2024-11-14T03:14:18.102292",
     "status": "completed"
    },
    "tags": []
   },
   "source": [
    "## Polarity vs Subjectivity"
   ]
  },
  {
   "cell_type": "code",
   "execution_count": 14,
   "id": "2139b7a8",
   "metadata": {
    "execution": {
     "iopub.execute_input": "2024-11-14T03:14:18.147818Z",
     "iopub.status.busy": "2024-11-14T03:14:18.146728Z",
     "iopub.status.idle": "2024-11-14T03:14:18.155604Z",
     "shell.execute_reply": "2024-11-14T03:14:18.154436Z"
    },
    "papermill": {
     "duration": 0.027013,
     "end_time": "2024-11-14T03:14:18.157887",
     "exception": false,
     "start_time": "2024-11-14T03:14:18.130874",
     "status": "completed"
    },
    "tags": []
   },
   "outputs": [
    {
     "name": "stdout",
     "output_type": "stream",
     "text": [
      "The correlation matrix of polarity scores and subjectivity scores is: \n",
      "[[1.         0.04880274]\n",
      " [0.04880274 1.        ]]\n"
     ]
    }
   ],
   "source": [
    "# checking the correlation between subjectivity and polarity\n",
    "print(f\"The correlation matrix of polarity scores and subjectivity scores is: \\n{np.corrcoef(reviews_df.polarity, reviews_df.subjectivity)}\")"
   ]
  },
  {
   "cell_type": "markdown",
   "id": "f3040c57",
   "metadata": {
    "papermill": {
     "duration": 0.014248,
     "end_time": "2024-11-14T03:14:18.188315",
     "exception": false,
     "start_time": "2024-11-14T03:14:18.174067",
     "status": "completed"
    },
    "tags": []
   },
   "source": [
    "The correlation between `polarity` scores and `subjectivity` scores appear to have a very small correlation. Next, we will visualize this relationship with a scatterplot."
   ]
  },
  {
   "cell_type": "markdown",
   "id": "d98ad962",
   "metadata": {
    "papermill": {
     "duration": 0.014764,
     "end_time": "2024-11-14T03:14:18.217842",
     "exception": false,
     "start_time": "2024-11-14T03:14:18.203078",
     "status": "completed"
    },
    "tags": []
   },
   "source": [
    "### A scatterplot of subjectivity vs polarity"
   ]
  },
  {
   "cell_type": "code",
   "execution_count": 15,
   "id": "6eb8f0db",
   "metadata": {
    "execution": {
     "iopub.execute_input": "2024-11-14T03:14:18.249489Z",
     "iopub.status.busy": "2024-11-14T03:14:18.249014Z",
     "iopub.status.idle": "2024-11-14T03:14:18.697579Z",
     "shell.execute_reply": "2024-11-14T03:14:18.695978Z"
    },
    "papermill": {
     "duration": 0.468589,
     "end_time": "2024-11-14T03:14:18.701046",
     "exception": false,
     "start_time": "2024-11-14T03:14:18.232457",
     "status": "completed"
    },
    "tags": []
   },
   "outputs": [
    {
     "data": {
      "image/png": "[encoded data removed]",
      "text/plain": [
       "<Figure size 640x480 with 1 Axes>"
      ]
     },
     "metadata": {},
     "output_type": "display_data"
    }
   ],
   "source": [
    "sns.scatterplot(data = reviews_df.sample(frac = 0.01, random_state = 42), x = 'polarity', y = 'subjectivity')\n",
    "plt.title(\"A scatterplot of subjectivity vs polarity\", fontsize = 11)\n",
    "plt.show()"
   ]
  },
  {
   "cell_type": "markdown",
   "id": "7f201f3d",
   "metadata": {
    "papermill": {
     "duration": 0.014882,
     "end_time": "2024-11-14T03:14:18.732505",
     "exception": false,
     "start_time": "2024-11-14T03:14:18.717623",
     "status": "completed"
    },
    "tags": []
   },
   "source": [
    "The scatter plot confirms the small correlation value that we obtained before. "
   ]
  },
  {
   "cell_type": "markdown",
   "id": "d7738596",
   "metadata": {
    "papermill": {
     "duration": 0.015238,
     "end_time": "2024-11-14T03:14:18.763399",
     "exception": false,
     "start_time": "2024-11-14T03:14:18.748161",
     "status": "completed"
    },
    "tags": []
   },
   "source": [
    "## Noun Phrase Extraction"
   ]
  },
  {
   "cell_type": "code",
   "execution_count": 16,
   "id": "f21a70d1",
   "metadata": {
    "execution": {
     "iopub.execute_input": "2024-11-14T03:14:18.795977Z",
     "iopub.status.busy": "2024-11-14T03:14:18.795502Z",
     "iopub.status.idle": "2024-11-14T03:15:38.819510Z",
     "shell.execute_reply": "2024-11-14T03:15:38.818292Z"
    },
    "papermill": {
     "duration": 80.043334,
     "end_time": "2024-11-14T03:15:38.822048",
     "exception": false,
     "start_time": "2024-11-14T03:14:18.778714",
     "status": "completed"
    },
    "tags": []
   },
   "outputs": [
    {
     "data": {
      "application/vnd.jupyter.widget-view+json": {
       "model_id": "472af04fae104928b26f00b1ae2a5fbb",
       "version_major": 2,
       "version_minor": 0
      },
      "text/plain": [
       "  0%|          | 0/9978 [00:00<?, ?it/s]"
      ]
     },
     "metadata": {},
     "output_type": "display_data"
    }
   ],
   "source": [
    "tqdm.pandas()\n",
    "reviews_df['noun_phrases'] = reviews_df['review'].progress_apply(lambda x: TextBlob(x).noun_phrases)"
   ]
  },
  {
   "cell_type": "code",
   "execution_count": 17,
   "id": "33336d74",
   "metadata": {
    "execution": {
     "iopub.execute_input": "2024-11-14T03:15:38.854989Z",
     "iopub.status.busy": "2024-11-14T03:15:38.854498Z",
     "iopub.status.idle": "2024-11-14T03:15:38.968483Z",
     "shell.execute_reply": "2024-11-14T03:15:38.967379Z"
    },
    "papermill": {
     "duration": 0.133516,
     "end_time": "2024-11-14T03:15:38.971258",
     "exception": false,
     "start_time": "2024-11-14T03:15:38.837742",
     "status": "completed"
    },
    "tags": []
   },
   "outputs": [
    {
     "name": "stdout",
     "output_type": "stream",
     "text": [
      "The most common noun phrases in positive reviews are:\n",
      "\n",
      "[('i dont', 212), ('movie i', 178), ('time i', 159), ('film i', 126), ('new york', 101), ('great movie', 94), ('i cant', 92), ('special effects', 92), ('i didnt', 90), ('good movie', 85), ('great job', 81), ('great film', 80), ('good job', 80), ('real life', 67), ('long time', 66), ('main characters', 60), ('early s', 55), ('main character', 53), ('good film', 53), ('late s', 53), ('i hope', 52), ('true story', 48), ('young man', 47), ('high school', 46), ('i havent', 46), ('i guess', 43), ('big screen', 42), ('old man', 42), ('whole movie', 39), ('i couldnt', 38), ('thing i', 38), ('bad guys', 37), ('big fan', 36), ('great story', 36), ('young woman', 33), ('low budget', 32), ('screen time', 32), ('horror film', 31), ('whole thing', 31), ('good i', 30), ('story line', 30), ('i wasnt', 29), ('final scene', 29), ('great performance', 29), ('good time', 28), ('movies i', 27), ('small town', 27), ('academy award', 27), ('times i', 27), ('tv series', 26)]\n",
      "\n",
      "\n",
      "The most common noun phrases in negative reviews are:\n",
      "\n",
      "[('i dont', 319), ('movie i', 283), ('special effects', 194), ('i didnt', 154), ('i cant', 152), ('film i', 151), ('time i', 112), ('i guess', 103), ('bad movie', 94), ('whole movie', 94), ('main character', 93), ('good movie', 88), ('i couldnt', 87), ('bad guys', 75), ('whole thing', 74), ('good thing', 67), ('bad movies', 60), ('entire movie', 58), ('reason i', 57), ('bad i', 57), ('main characters', 56), ('i wouldnt', 54), ('horror movie', 54), ('long time', 52), ('low budget', 50), ('bad guy', 49), ('good film', 47), ('real life', 47), ('good idea', 47), ('character development', 46), ('thing i', 46), ('whole film', 46), ('new york', 45), ('movies i', 44), ('early s', 43), ('horror film', 40), ('bad film', 39), ('fight scenes', 39), ('action scenes', 39), ('screen time', 38), ('good job', 38), ('plot holes', 38), ('horror movies', 37), ('big fan', 36), ('films i', 36), ('dont waste', 36), ('i wasnt', 36), ('i hope', 35), ('end i', 35), ('movie ive', 34)]\n"
     ]
    }
   ],
   "source": [
    "from collections import Counter\n",
    "\n",
    "positive_reviews = reviews_df[reviews_df['sentiment'] == 'positive']\n",
    "negative_reviews = reviews_df[reviews_df['sentiment'] == 'negative']\n",
    "\n",
    "all_positive_noun_phrases = [np for sublist in positive_reviews['noun_phrases'] for np in sublist]\n",
    "all_negative_noun_phrases = [np for sublist in negative_reviews['noun_phrases'] for np in sublist]\n",
    "\n",
    "common_positive_nouns = Counter(all_positive_noun_phrases).most_common(50)\n",
    "common_negative_nouns = Counter(all_negative_noun_phrases).most_common(50)\n",
    "\n",
    "print(f\"The most common noun phrases in positive reviews are:\\n\\n{common_positive_nouns}\")\n",
    "print(\"\\n\")\n",
    "print(f\"The most common noun phrases in negative reviews are:\\n\\n{common_negative_nouns}\")"
   ]
  },
  {
   "cell_type": "markdown",
   "id": "323f9fbd",
   "metadata": {
    "papermill": {
     "duration": 0.015211,
     "end_time": "2024-11-14T03:15:39.001903",
     "exception": false,
     "start_time": "2024-11-14T03:15:38.986692",
     "status": "completed"
    },
    "tags": []
   },
   "source": [
    "Some of the most common noun phrases present in positive reviews and are in reality an indicator of positive sentiments include; great movie, good movie, great film and great job.\n",
    "\n",
    "On the other hand, some of the most common noun phrases in negative reviews are; bad movie, whole movie, whole thing, entire movie and low budget. Apparently, it appears people are likely to talk about the entire movie when they have something negative to comment about it.\n",
    "\n",
    "Most of the positive reviews do not have phrases that are suggestive of recommendation to watch the a movie whereas a number of the negative reviews have phrases that seem to admonish people against watching the movies. These include; n't care, n't waste, good thing, avoid, n't work, anyway and n't bother.\n",
    "\n",
    "Positive reviews appear to have more noun phrases for locations such as America, Paris, London, Earth, France, England and York. On the other hand, the only noun phrases for locations appearing in negative reviews are America and York.\n",
    "\n",
    "There seems to be mentioning of actors in positive reviews as indicated by names such as Jack, Joe, Michael etc whereas that is lacking in negative reviews. The same applies to movie titles, in positive reviews, we have names such as Batman, World war and Shakespeare whereas they are missing in the negative reviews.\n",
    "\n"
   ]
  },
  {
   "cell_type": "markdown",
   "id": "11732ff7",
   "metadata": {
    "papermill": {
     "duration": 0.014958,
     "end_time": "2024-11-14T03:15:39.032243",
     "exception": false,
     "start_time": "2024-11-14T03:15:39.017285",
     "status": "completed"
    },
    "tags": []
   },
   "source": [
    "### Checking languages\n",
    "Have all reviews been done in English?"
   ]
  },
  {
   "cell_type": "code",
   "execution_count": 18,
   "id": "c025bc19",
   "metadata": {
    "execution": {
     "iopub.execute_input": "2024-11-14T03:15:39.065216Z",
     "iopub.status.busy": "2024-11-14T03:15:39.064458Z",
     "iopub.status.idle": "2024-11-14T03:18:10.856742Z",
     "shell.execute_reply": "2024-11-14T03:18:10.855412Z"
    },
    "papermill": {
     "duration": 151.828457,
     "end_time": "2024-11-14T03:18:10.876167",
     "exception": false,
     "start_time": "2024-11-14T03:15:39.047710",
     "status": "completed"
    },
    "tags": []
   },
   "outputs": [
    {
     "name": "stdout",
     "output_type": "stream",
     "text": [
      "Collecting langdetect\r\n",
      "  Downloading langdetect-1.0.9.tar.gz (981 kB)\r\n",
      "\u001b[2K     \u001b[90m━━━━━━━━━━━━━━━━━━━━━━━━━━━━━━━━━━━━━━\u001b[0m \u001b[32m981.5/981.5 kB\u001b[0m \u001b[31m15.8 MB/s\u001b[0m eta \u001b[36m0:00:00\u001b[0m\r\n",
      "\u001b[?25h  Preparing metadata (setup.py) ... \u001b[?25l-\b \bdone\r\n",
      "\u001b[?25hRequirement already satisfied: six in /opt/conda/lib/python3.10/site-packages (from langdetect) (1.16.0)\r\n",
      "Building wheels for collected packages: langdetect\r\n",
      "  Building wheel for langdetect (setup.py) ... \u001b[?25l-\b \bdone\r\n",
      "\u001b[?25h  Created wheel for langdetect: filename=langdetect-1.0.9-py3-none-any.whl size=993227 sha256=10afc4e5274952993e6c695f374188b3a2c2c869e98468b1c39260c136a4bd36\r\n",
      "  Stored in directory: /root/.cache/pip/wheels/95/03/7d/59ea870c70ce4e5a370638b5462a7711ab78fba2f655d05106\r\n",
      "Successfully built langdetect\r\n",
      "Installing collected packages: langdetect\r\n",
      "Successfully installed langdetect-1.0.9\r\n"
     ]
    },
    {
     "data": {
      "text/plain": [
       "Index(['review', 'sentiment', 'polarity', 'subjectivity', 'noun_phrases',\n",
       "       'language'],\n",
       "      dtype='object')"
      ]
     },
     "execution_count": 18,
     "metadata": {},
     "output_type": "execute_result"
    }
   ],
   "source": [
    "!pip install langdetect\n",
    "from langdetect import detect\n",
    "reviews_df['language'] = reviews_df['review'].apply(lambda x: detect(x))\n",
    "reviews_df.columns"
   ]
  },
  {
   "cell_type": "code",
   "execution_count": 19,
   "id": "8d7c9ec0",
   "metadata": {
    "execution": {
     "iopub.execute_input": "2024-11-14T03:18:10.912467Z",
     "iopub.status.busy": "2024-11-14T03:18:10.911979Z",
     "iopub.status.idle": "2024-11-14T03:18:10.921876Z",
     "shell.execute_reply": "2024-11-14T03:18:10.920677Z"
    },
    "papermill": {
     "duration": 0.030786,
     "end_time": "2024-11-14T03:18:10.924255",
     "exception": false,
     "start_time": "2024-11-14T03:18:10.893469",
     "status": "completed"
    },
    "tags": []
   },
   "outputs": [
    {
     "data": {
      "text/plain": [
       "array(['en'], dtype=object)"
      ]
     },
     "execution_count": 19,
     "metadata": {},
     "output_type": "execute_result"
    }
   ],
   "source": [
    "reviews_df['language'].unique()\n"
   ]
  },
  {
   "cell_type": "markdown",
   "id": "1a3a8147",
   "metadata": {
    "papermill": {
     "duration": 0.016529,
     "end_time": "2024-11-14T03:18:10.957673",
     "exception": false,
     "start_time": "2024-11-14T03:18:10.941144",
     "status": "completed"
    },
    "tags": []
   },
   "source": [
    "It turns out that all reviews are in english according to `langdetect`"
   ]
  },
  {
   "cell_type": "markdown",
   "id": "5e817384",
   "metadata": {
    "papermill": {
     "duration": 0.016714,
     "end_time": "2024-11-14T03:18:10.991669",
     "exception": false,
     "start_time": "2024-11-14T03:18:10.974955",
     "status": "completed"
    },
    "tags": []
   },
   "source": [
    "### Extracting mostly used adjectives\n"
   ]
  },
  {
   "cell_type": "code",
   "execution_count": 20,
   "id": "0f9b1e8a",
   "metadata": {
    "execution": {
     "iopub.execute_input": "2024-11-14T03:18:11.027924Z",
     "iopub.status.busy": "2024-11-14T03:18:11.027489Z",
     "iopub.status.idle": "2024-11-14T03:18:11.033467Z",
     "shell.execute_reply": "2024-11-14T03:18:11.032242Z"
    },
    "papermill": {
     "duration": 0.027345,
     "end_time": "2024-11-14T03:18:11.035924",
     "exception": false,
     "start_time": "2024-11-14T03:18:11.008579",
     "status": "completed"
    },
    "tags": []
   },
   "outputs": [],
   "source": [
    "def adjective_detector(text):\n",
    "    text_blob = TextBlob(text)\n",
    "    return [word for word, pos in text_blob.tags if pos == 'JJ']"
   ]
  },
  {
   "cell_type": "code",
   "execution_count": 21,
   "id": "58d65d76",
   "metadata": {
    "execution": {
     "iopub.execute_input": "2024-11-14T03:18:11.072681Z",
     "iopub.status.busy": "2024-11-14T03:18:11.072247Z",
     "iopub.status.idle": "2024-11-14T03:21:29.017602Z",
     "shell.execute_reply": "2024-11-14T03:21:29.016367Z"
    },
    "papermill": {
     "duration": 197.967276,
     "end_time": "2024-11-14T03:21:29.020082",
     "exception": false,
     "start_time": "2024-11-14T03:18:11.052806",
     "status": "completed"
    },
    "tags": []
   },
   "outputs": [
    {
     "data": {
      "application/vnd.jupyter.widget-view+json": {
       "model_id": "a358c94f19914cfda24969c4e9b1f7a5",
       "version_major": 2,
       "version_minor": 0
      },
      "text/plain": [
       "  0%|          | 0/5035 [00:00<?, ?it/s]"
      ]
     },
     "metadata": {},
     "output_type": "display_data"
    },
    {
     "data": {
      "application/vnd.jupyter.widget-view+json": {
       "model_id": "392ba09c138948859caf3641e62de46c",
       "version_major": 2,
       "version_minor": 0
      },
      "text/plain": [
       "  0%|          | 0/4943 [00:00<?, ?it/s]"
      ]
     },
     "metadata": {},
     "output_type": "display_data"
    }
   ],
   "source": [
    "positive_reviews['adjective'] = positive_reviews['review'].progress_apply(adjective_detector)\n",
    "negative_reviews['adjective'] = negative_reviews['review'].progress_apply(adjective_detector)"
   ]
  }
 ],
 "metadata": {
  "kaggle": {
   "accelerator": "none",
   "dataSources": [
    {
     "datasetId": 134715,
     "sourceId": 320111,
     "sourceType": "datasetVersion"
    }
   ],
   "dockerImageVersionId": 30786,
   "isGpuEnabled": false,
   "isInternetEnabled": true,
   "language": "python",
   "sourceType": "notebook"
  },
  "kernelspec": {
   "display_name": "Python 3",
   "language": "python",
   "name": "python3"
  },
  "language_info": {
   "codemirror_mode": {
    "name": "ipython",
    "version": 3
   },
   "file_extension": ".py",
   "mimetype": "text/x-python",
   "name": "python",
   "nbconvert_exporter": "python",
   "pygments_lexer": "ipython3",
   "version": "3.10.14"
  },
  "papermill": {
   "default_parameters": {},
   "duration": 485.812678,
   "end_time": "2024-11-14T03:21:30.466811",
   "environment_variables": {},
   "exception": null,
   "input_path": "__notebook__.ipynb",
   "output_path": "__notebook__.ipynb",
   "parameters": {},
   "start_time": "2024-11-14T03:13:24.654133",
   "version": "2.6.0"
  },
  "widgets": {
   "application/vnd.jupyter.widget-state+json": {
    "state": {
     "01043af1c1c1444fb3bd3df053405119": {
      "model_module": "@jupyter-widgets/controls",
      "model_module_version": "1.5.0",
      "model_name": "FloatProgressModel",
      "state": {
       "_dom_classes": [],
       "_model_module": "@jupyter-widgets/controls",
       "_model_module_version": "1.5.0",
       "_model_name": "FloatProgressModel",
       "_view_count": null,
       "_view_module": "@jupyter-widgets/controls",
       "_view_module_version": "1.5.0",
       "_view_name": "ProgressView",
       "bar_style": "success",
       "description": "",
       "description_tooltip": null,
       "layout": "IPY_MODEL_f52bbff3b44f4ffa94437b13321f89c7",
       "max": 4943.0,
       "min": 0.0,
       "orientation": "horizontal",
       "style": "IPY_MODEL_787e2d1371cc48eb921e9d37045a70af",
       "value": 4943.0
      }
     },
     "06c8436e458f4fa396732759a6980833": {
      "model_module": "@jupyter-widgets/base",
      "model_module_version": "1.2.0",
      "model_name": "LayoutModel",
      "state": {
       "_model_module": "@jupyter-widgets/base",
       "_model_module_version": "1.2.0",
       "_model_name": "LayoutModel",
       "_view_count": null,
       "_view_module": "@jupyter-widgets/base",
       "_view_module_version": "1.2.0",
       "_view_name": "LayoutView",
       "align_content": null,
       "align_items": null,
       "align_self": null,
       "border": null,
       "bottom": null,
       "display": null,
       "flex": null,
       "flex_flow": null,
       "grid_area": null,
       "grid_auto_columns": null,
       "grid_auto_flow": null,
       "grid_auto_rows": null,
       "grid_column": null,
       "grid_gap": null,
       "grid_row": null,
       "grid_template_areas": null,
       "grid_template_columns": null,
       "grid_template_rows": null,
       "height": null,
       "justify_content": null,
       "justify_items": null,
       "left": null,
       "margin": null,
       "max_height": null,
       "max_width": null,
       "min_height": null,
       "min_width": null,
       "object_fit": null,
       "object_position": null,
       "order": null,
       "overflow": null,
       "overflow_x": null,
       "overflow_y": null,
       "padding": null,
       "right": null,
       "top": null,
       "visibility": null,
       "width": null
      }
     },
     "08d9694a201f4840bd39e482e1663f3d": {
      "model_module": "@jupyter-widgets/controls",
      "model_module_version": "1.5.0",
      "model_name": "ProgressStyleModel",
      "state": {
       "_model_module": "@jupyter-widgets/controls",
       "_model_module_version": "1.5.0",
       "_model_name": "ProgressStyleModel",
       "_view_count": null,
       "_view_module": "@jupyter-widgets/base",
       "_view_module_version": "1.2.0",
       "_view_name": "StyleView",
       "bar_color": null,
       "description_width": ""
      }
     },
     "0dcc77067d164fec8d368ee1d72df030": {
      "model_module": "@jupyter-widgets/controls",
      "model_module_version": "1.5.0",
      "model_name": "DescriptionStyleModel",
      "state": {
       "_model_module": "@jupyter-widgets/controls",
       "_model_module_version": "1.5.0",
       "_model_name": "DescriptionStyleModel",
       "_view_count": null,
       "_view_module": "@jupyter-widgets/base",
       "_view_module_version": "1.2.0",
       "_view_name": "StyleView",
       "description_width": ""
      }
     },
     "163f6d875e334e68ab3326be111047f3": {
      "model_module": "@jupyter-widgets/base",
      "model_module_version": "1.2.0",
      "model_name": "LayoutModel",
      "state": {
       "_model_module": "@jupyter-widgets/base",
       "_model_module_version": "1.2.0",
       "_model_name": "LayoutModel",
       "_view_count": null,
       "_view_module": "@jupyter-widgets/base",
       "_view_module_version": "1.2.0",
       "_view_name": "LayoutView",
       "align_content": null,
       "align_items": null,
       "align_self": null,
       "border": null,
       "bottom": null,
       "display": null,
       "flex": null,
       "flex_flow": null,
       "grid_area": null,
       "grid_auto_columns": null,
       "grid_auto_flow": null,
       "grid_auto_rows": null,
       "grid_column": null,
       "grid_gap": null,
       "grid_row": null,
       "grid_template_areas": null,
       "grid_template_columns": null,
       "grid_template_rows": null,
       "height": null,
       "justify_content": null,
       "justify_items": null,
       "left": null,
       "margin": null,
       "max_height": null,
       "max_width": null,
       "min_height": null,
       "min_width": null,
       "object_fit": null,
       "object_position": null,
       "order": null,
       "overflow": null,
       "overflow_x": null,
       "overflow_y": null,
       "padding": null,
       "right": null,
       "top": null,
       "visibility": null,
       "width": null
      }
     },
     "19021e6d2ae349139ba2c0989b6ae031": {
      "model_module": "@jupyter-widgets/base",
      "model_module_version": "1.2.0",
      "model_name": "LayoutModel",
      "state": {
       "_model_module": "@jupyter-widgets/base",
       "_model_module_version": "1.2.0",
       "_model_name": "LayoutModel",
       "_view_count": null,
       "_view_module": "@jupyter-widgets/base",
       "_view_module_version": "1.2.0",
       "_view_name": "LayoutView",
       "align_content": null,
       "align_items": null,
       "align_self": null,
       "border": null,
       "bottom": null,
       "display": null,
       "flex": null,
       "flex_flow": null,
       "grid_area": null,
       "grid_auto_columns": null,
       "grid_auto_flow": null,
       "grid_auto_rows": null,
       "grid_column": null,
       "grid_gap": null,
       "grid_row": null,
       "grid_template_areas": null,
       "grid_template_columns": null,
       "grid_template_rows": null,
       "height": null,
       "justify_content": null,
       "justify_items": null,
       "left": null,
       "margin": null,
       "max_height": null,
       "max_width": null,
       "min_height": null,
       "min_width": null,
       "object_fit": null,
       "object_position": null,
       "order": null,
       "overflow": null,
       "overflow_x": null,
       "overflow_y": null,
       "padding": null,
       "right": null,
       "top": null,
       "visibility": null,
       "width": null
      }
     },
     "1aa4805905a14f4099fdf2f86b31c2a3": {
      "model_module": "@jupyter-widgets/base",
      "model_module_version": "1.2.0",
      "model_name": "LayoutModel",
      "state": {
       "_model_module": "@jupyter-widgets/base",
       "_model_module_version": "1.2.0",
       "_model_name": "LayoutModel",
       "_view_count": null,
       "_view_module": "@jupyter-widgets/base",
       "_view_module_version": "1.2.0",
       "_view_name": "LayoutView",
       "align_content": null,
       "align_items": null,
       "align_self": null,
       "border": null,
       "bottom": null,
       "display": null,
       "flex": null,
       "flex_flow": null,
       "grid_area": null,
       "grid_auto_columns": null,
       "grid_auto_flow": null,
       "grid_auto_rows": null,
       "grid_column": null,
       "grid_gap": null,
       "grid_row": null,
       "grid_template_areas": null,
       "grid_template_columns": null,
       "grid_template_rows": null,
       "height": null,
       "justify_content": null,
       "justify_items": null,
       "left": null,
       "margin": null,
       "max_height": null,
       "max_width": null,
       "min_height": null,
       "min_width": null,
       "object_fit": null,
       "object_position": null,
       "order": null,
       "overflow": null,
       "overflow_x": null,
       "overflow_y": null,
       "padding": null,
       "right": null,
       "top": null,
       "visibility": null,
       "width": null
      }
     },
     "1da8465d23374e67a484a160ffd3b6e0": {
      "model_module": "@jupyter-widgets/controls",
      "model_module_version": "1.5.0",
      "model_name": "HTMLModel",
      "state": {
       "_dom_classes": [],
       "_model_module": "@jupyter-widgets/controls",
       "_model_module_version": "1.5.0",
       "_model_name": "HTMLModel",
       "_view_count": null,
       "_view_module": "@jupyter-widgets/controls",
       "_view_module_version": "1.5.0",
       "_view_name": "HTMLView",
       "description": "",
       "description_tooltip": null,
       "layout": "IPY_MODEL_9e9b4dcfec7545628f2e6190dae17c66",
       "placeholder": "​",
       "style": "IPY_MODEL_f3ae025d035f42d49a062ee16a4de346",
       "value": " 9928/9978 [00:20&lt;00:00, 498.08it/s]"
      }
     },
     "267e09cbc3df40e2bdc567e80c5d8e2a": {
      "model_module": "@jupyter-widgets/controls",
      "model_module_version": "1.5.0",
      "model_name": "DescriptionStyleModel",
      "state": {
       "_model_module": "@jupyter-widgets/controls",
       "_model_module_version": "1.5.0",
       "_model_name": "DescriptionStyleModel",
       "_view_count": null,
       "_view_module": "@jupyter-widgets/base",
       "_view_module_version": "1.2.0",
       "_view_name": "StyleView",
       "description_width": ""
      }
     },
     "31945e2bb4874e4786bce3805c287089": {
      "model_module": "@jupyter-widgets/controls",
      "model_module_version": "1.5.0",
      "model_name": "DescriptionStyleModel",
      "state": {
       "_model_module": "@jupyter-widgets/controls",
       "_model_module_version": "1.5.0",
       "_model_name": "DescriptionStyleModel",
       "_view_count": null,
       "_view_module": "@jupyter-widgets/base",
       "_view_module_version": "1.2.0",
       "_view_name": "StyleView",
       "description_width": ""
      }
     },
     "392ba09c138948859caf3641e62de46c": {
      "model_module": "@jupyter-widgets/controls",
      "model_module_version": "1.5.0",
      "model_name": "HBoxModel",
      "state": {
       "_dom_classes": [],
       "_model_module": "@jupyter-widgets/controls",
       "_model_module_version": "1.5.0",
       "_model_name": "HBoxModel",
       "_view_count": null,
       "_view_module": "@jupyter-widgets/controls",
       "_view_module_version": "1.5.0",
       "_view_name": "HBoxView",
       "box_style": "",
       "children": [
        "IPY_MODEL_eb18f251ec404dfc83c565b3a0fab1a5",
        "IPY_MODEL_01043af1c1c1444fb3bd3df053405119",
        "IPY_MODEL_e588ac8f5ad84f939bc8d6064ac8f6f2"
       ],
       "layout": "IPY_MODEL_5637a08381014d3c8e4522257fa98e56"
      }
     },
     "39bfdc5c67c140b486e56f3a45fbc8ba": {
      "model_module": "@jupyter-widgets/controls",
      "model_module_version": "1.5.0",
      "model_name": "FloatProgressModel",
      "state": {
       "_dom_classes": [],
       "_model_module": "@jupyter-widgets/controls",
       "_model_module_version": "1.5.0",
       "_model_name": "FloatProgressModel",
       "_view_count": null,
       "_view_module": "@jupyter-widgets/controls",
       "_view_module_version": "1.5.0",
       "_view_name": "ProgressView",
       "bar_style": "success",
       "description": "",
       "description_tooltip": null,
       "layout": "IPY_MODEL_901f327b52e54db491ace23b6cbe8d1c",
       "max": 5035.0,
       "min": 0.0,
       "orientation": "horizontal",
       "style": "IPY_MODEL_08d9694a201f4840bd39e482e1663f3d",
       "value": 5035.0
      }
     },
     "3d1f48b26cff4f04abae2a07e3c47b13": {
      "model_module": "@jupyter-widgets/base",
      "model_module_version": "1.2.0",
      "model_name": "LayoutModel",
      "state": {
       "_model_module": "@jupyter-widgets/base",
       "_model_module_version": "1.2.0",
       "_model_name": "LayoutModel",
       "_view_count": null,
       "_view_module": "@jupyter-widgets/base",
       "_view_module_version": "1.2.0",
       "_view_name": "LayoutView",
       "align_content": null,
       "align_items": null,
       "align_self": null,
       "border": null,
       "bottom": null,
       "display": null,
       "flex": null,
       "flex_flow": null,
       "grid_area": null,
       "grid_auto_columns": null,
       "grid_auto_flow": null,
       "grid_auto_rows": null,
       "grid_column": null,
       "grid_gap": null,
       "grid_row": null,
       "grid_template_areas": null,
       "grid_template_columns": null,
       "grid_template_rows": null,
       "height": null,
       "justify_content": null,
       "justify_items": null,
       "left": null,
       "margin": null,
       "max_height": null,
       "max_width": null,
       "min_height": null,
       "min_width": null,
       "object_fit": null,
       "object_position": null,
       "order": null,
       "overflow": null,
       "overflow_x": null,
       "overflow_y": null,
       "padding": null,
       "right": null,
       "top": null,
       "visibility": null,
       "width": null
      }
     },
     "4369296f32d049759fba1bc962d70df1": {
      "model_module": "@jupyter-widgets/controls",
      "model_module_version": "1.5.0",
      "model_name": "HTMLModel",
      "state": {
       "_dom_classes": [],
       "_model_module": "@jupyter-widgets/controls",
       "_model_module_version": "1.5.0",
       "_model_name": "HTMLModel",
       "_view_count": null,
       "_view_module": "@jupyter-widgets/controls",
       "_view_module_version": "1.5.0",
       "_view_name": "HTMLView",
       "description": "",
       "description_tooltip": null,
       "layout": "IPY_MODEL_19021e6d2ae349139ba2c0989b6ae031",
       "placeholder": "​",
       "style": "IPY_MODEL_e989dd8bbfd640d8af248951fa743aa1",
       "value": "100%"
      }
     },
     "440c2313cd8e4028b2989f9b7e657247": {
      "model_module": "@jupyter-widgets/base",
      "model_module_version": "1.2.0",
      "model_name": "LayoutModel",
      "state": {
       "_model_module": "@jupyter-widgets/base",
       "_model_module_version": "1.2.0",
       "_model_name": "LayoutModel",
       "_view_count": null,
       "_view_module": "@jupyter-widgets/base",
       "_view_module_version": "1.2.0",
       "_view_name": "LayoutView",
       "align_content": null,
       "align_items": null,
       "align_self": null,
       "border": null,
       "bottom": null,
       "display": null,
       "flex": null,
       "flex_flow": null,
       "grid_area": null,
       "grid_auto_columns": null,
       "grid_auto_flow": null,
       "grid_auto_rows": null,
       "grid_column": null,
       "grid_gap": null,
       "grid_row": null,
       "grid_template_areas": null,
       "grid_template_columns": null,
       "grid_template_rows": null,
       "height": null,
       "justify_content": null,
       "justify_items": null,
       "left": null,
       "margin": null,
       "max_height": null,
       "max_width": null,
       "min_height": null,
       "min_width": null,
       "object_fit": null,
       "object_position": null,
       "order": null,
       "overflow": null,
       "overflow_x": null,
       "overflow_y": null,
       "padding": null,
       "right": null,
       "top": null,
       "visibility": null,
       "width": null
      }
     },
     "44756212bdc640b886a5804d00cb4fb4": {
      "model_module": "@jupyter-widgets/base",
      "model_module_version": "1.2.0",
      "model_name": "LayoutModel",
      "state": {
       "_model_module": "@jupyter-widgets/base",
       "_model_module_version": "1.2.0",
       "_model_name": "LayoutModel",
       "_view_count": null,
       "_view_module": "@jupyter-widgets/base",
       "_view_module_version": "1.2.0",
       "_view_name": "LayoutView",
       "align_content": null,
       "align_items": null,
       "align_self": null,
       "border": null,
       "bottom": null,
       "display": null,
       "flex": null,
       "flex_flow": null,
       "grid_area": null,
       "grid_auto_columns": null,
       "grid_auto_flow": null,
       "grid_auto_rows": null,
       "grid_column": null,
       "grid_gap": null,
       "grid_row": null,
       "grid_template_areas": null,
       "grid_template_columns": null,
       "grid_template_rows": null,
       "height": null,
       "justify_content": null,
       "justify_items": null,
       "left": null,
       "margin": null,
       "max_height": null,
       "max_width": null,
       "min_height": null,
       "min_width": null,
       "object_fit": null,
       "object_position": null,
       "order": null,
       "overflow": null,
       "overflow_x": null,
       "overflow_y": null,
       "padding": null,
       "right": null,
       "top": null,
       "visibility": null,
       "width": null
      }
     },
     "4632f5d02c7b4075a69adface2b108d9": {
      "model_module": "@jupyter-widgets/controls",
      "model_module_version": "1.5.0",
      "model_name": "HBoxModel",
      "state": {
       "_dom_classes": [],
       "_model_module": "@jupyter-widgets/controls",
       "_model_module_version": "1.5.0",
       "_model_name": "HBoxModel",
       "_view_count": null,
       "_view_module": "@jupyter-widgets/controls",
       "_view_module_version": "1.5.0",
       "_view_name": "HBoxView",
       "box_style": "",
       "children": [
        "IPY_MODEL_f860ff8939a84c1bb4fbb6e46c723541",
        "IPY_MODEL_7d1fd8ebd264420795920fbbf572a7fb",
        "IPY_MODEL_77d35c130a3e4d47a504091e0522320c"
       ],
       "layout": "IPY_MODEL_60c31db4895748f5bb2c58a790d67558"
      }
     },
     "472af04fae104928b26f00b1ae2a5fbb": {
      "model_module": "@jupyter-widgets/controls",
      "model_module_version": "1.5.0",
      "model_name": "HBoxModel",
      "state": {
       "_dom_classes": [],
       "_model_module": "@jupyter-widgets/controls",
       "_model_module_version": "1.5.0",
       "_model_name": "HBoxModel",
       "_view_count": null,
       "_view_module": "@jupyter-widgets/controls",
       "_view_module_version": "1.5.0",
       "_view_name": "HBoxView",
       "box_style": "",
       "children": [
        "IPY_MODEL_71bf99b16dfb4f54a69f246d1a296e3e",
        "IPY_MODEL_5abe7e01ce2f462d97a67acfd618c8e8",
        "IPY_MODEL_c1abd91cc56d4b6f9078280423e4aa65"
       ],
       "layout": "IPY_MODEL_6006a77825fc40e7b8402794b37aaa60"
      }
     },
     "48909454d82341baae2fbdeb171b0f83": {
      "model_module": "@jupyter-widgets/base",
      "model_module_version": "1.2.0",
      "model_name": "LayoutModel",
      "state": {
       "_model_module": "@jupyter-widgets/base",
       "_model_module_version": "1.2.0",
       "_model_name": "LayoutModel",
       "_view_count": null,
       "_view_module": "@jupyter-widgets/base",
       "_view_module_version": "1.2.0",
       "_view_name": "LayoutView",
       "align_content": null,
       "align_items": null,
       "align_self": null,
       "border": null,
       "bottom": null,
       "display": null,
       "flex": null,
       "flex_flow": null,
       "grid_area": null,
       "grid_auto_columns": null,
       "grid_auto_flow": null,
       "grid_auto_rows": null,
       "grid_column": null,
       "grid_gap": null,
       "grid_row": null,
       "grid_template_areas": null,
       "grid_template_columns": null,
       "grid_template_rows": null,
       "height": null,
       "justify_content": null,
       "justify_items": null,
       "left": null,
       "margin": null,
       "max_height": null,
       "max_width": null,
       "min_height": null,
       "min_width": null,
       "object_fit": null,
       "object_position": null,
       "order": null,
       "overflow": null,
       "overflow_x": null,
       "overflow_y": null,
       "padding": null,
       "right": null,
       "top": null,
       "visibility": "hidden",
       "width": null
      }
     },
     "51d9de23e4bb4470b84c4970b4059217": {
      "model_module": "@jupyter-widgets/base",
      "model_module_version": "1.2.0",
      "model_name": "LayoutModel",
      "state": {
       "_model_module": "@jupyter-widgets/base",
       "_model_module_version": "1.2.0",
       "_model_name": "LayoutModel",
       "_view_count": null,
       "_view_module": "@jupyter-widgets/base",
       "_view_module_version": "1.2.0",
       "_view_name": "LayoutView",
       "align_content": null,
       "align_items": null,
       "align_self": null,
       "border": null,
       "bottom": null,
       "display": null,
       "flex": null,
       "flex_flow": null,
       "grid_area": null,
       "grid_auto_columns": null,
       "grid_auto_flow": null,
       "grid_auto_rows": null,
       "grid_column": null,
       "grid_gap": null,
       "grid_row": null,
       "grid_template_areas": null,
       "grid_template_columns": null,
       "grid_template_rows": null,
       "height": null,
       "justify_content": null,
       "justify_items": null,
       "left": null,
       "margin": null,
       "max_height": null,
       "max_width": null,
       "min_height": null,
       "min_width": null,
       "object_fit": null,
       "object_position": null,
       "order": null,
       "overflow": null,
       "overflow_x": null,
       "overflow_y": null,
       "padding": null,
       "right": null,
       "top": null,
       "visibility": null,
       "width": null
      }
     },
     "5631de9a06a7464094d6d9f9e52fb3ee": {
      "model_module": "@jupyter-widgets/controls",
      "model_module_version": "1.5.0",
      "model_name": "ProgressStyleModel",
      "state": {
       "_model_module": "@jupyter-widgets/controls",
       "_model_module_version": "1.5.0",
       "_model_name": "ProgressStyleModel",
       "_view_count": null,
       "_view_module": "@jupyter-widgets/base",
       "_view_module_version": "1.2.0",
       "_view_name": "StyleView",
       "bar_color": null,
       "description_width": ""
      }
     },
     "5637a08381014d3c8e4522257fa98e56": {
      "model_module": "@jupyter-widgets/base",
      "model_module_version": "1.2.0",
      "model_name": "LayoutModel",
      "state": {
       "_model_module": "@jupyter-widgets/base",
       "_model_module_version": "1.2.0",
       "_model_name": "LayoutModel",
       "_view_count": null,
       "_view_module": "@jupyter-widgets/base",
       "_view_module_version": "1.2.0",
       "_view_name": "LayoutView",
       "align_content": null,
       "align_items": null,
       "align_self": null,
       "border": null,
       "bottom": null,
       "display": null,
       "flex": null,
       "flex_flow": null,
       "grid_area": null,
       "grid_auto_columns": null,
       "grid_auto_flow": null,
       "grid_auto_rows": null,
       "grid_column": null,
       "grid_gap": null,
       "grid_row": null,
       "grid_template_areas": null,
       "grid_template_columns": null,
       "grid_template_rows": null,
       "height": null,
       "justify_content": null,
       "justify_items": null,
       "left": null,
       "margin": null,
       "max_height": null,
       "max_width": null,
       "min_height": null,
       "min_width": null,
       "object_fit": null,
       "object_position": null,
       "order": null,
       "overflow": null,
       "overflow_x": null,
       "overflow_y": null,
       "padding": null,
       "right": null,
       "top": null,
       "visibility": null,
       "width": null
      }
     },
     "58f3a71ccc0d4e59bf52cb20326c9fdb": {
      "model_module": "@jupyter-widgets/controls",
      "model_module_version": "1.5.0",
      "model_name": "HTMLModel",
      "state": {
       "_dom_classes": [],
       "_model_module": "@jupyter-widgets/controls",
       "_model_module_version": "1.5.0",
       "_model_name": "HTMLModel",
       "_view_count": null,
       "_view_module": "@jupyter-widgets/controls",
       "_view_module_version": "1.5.0",
       "_view_name": "HTMLView",
       "description": "",
       "description_tooltip": null,
       "layout": "IPY_MODEL_e41f64ca5a3d441b8d129ed4bb7c6687",
       "placeholder": "​",
       "style": "IPY_MODEL_b440411a1c264cf589e42c3ea6399f2f",
       "value": "Processing subjectivity scores:  99%"
      }
     },
     "5abe7e01ce2f462d97a67acfd618c8e8": {
      "model_module": "@jupyter-widgets/controls",
      "model_module_version": "1.5.0",
      "model_name": "FloatProgressModel",
      "state": {
       "_dom_classes": [],
       "_model_module": "@jupyter-widgets/controls",
       "_model_module_version": "1.5.0",
       "_model_name": "FloatProgressModel",
       "_view_count": null,
       "_view_module": "@jupyter-widgets/controls",
       "_view_module_version": "1.5.0",
       "_view_name": "ProgressView",
       "bar_style": "success",
       "description": "",
       "description_tooltip": null,
       "layout": "IPY_MODEL_44756212bdc640b886a5804d00cb4fb4",
       "max": 9978.0,
       "min": 0.0,
       "orientation": "horizontal",
       "style": "IPY_MODEL_8d0eac518eea4dafb0e3c9403bdd1b1b",
       "value": 9978.0
      }
     },
     "6006a77825fc40e7b8402794b37aaa60": {
      "model_module": "@jupyter-widgets/base",
      "model_module_version": "1.2.0",
      "model_name": "LayoutModel",
      "state": {
       "_model_module": "@jupyter-widgets/base",
       "_model_module_version": "1.2.0",
       "_model_name": "LayoutModel",
       "_view_count": null,
       "_view_module": "@jupyter-widgets/base",
       "_view_module_version": "1.2.0",
       "_view_name": "LayoutView",
       "align_content": null,
       "align_items": null,
       "align_self": null,
       "border": null,
       "bottom": null,
       "display": null,
       "flex": null,
       "flex_flow": null,
       "grid_area": null,
       "grid_auto_columns": null,
       "grid_auto_flow": null,
       "grid_auto_rows": null,
       "grid_column": null,
       "grid_gap": null,
       "grid_row": null,
       "grid_template_areas": null,
       "grid_template_columns": null,
       "grid_template_rows": null,
       "height": null,
       "justify_content": null,
       "justify_items": null,
       "left": null,
       "margin": null,
       "max_height": null,
       "max_width": null,
       "min_height": null,
       "min_width": null,
       "object_fit": null,
       "object_position": null,
       "order": null,
       "overflow": null,
       "overflow_x": null,
       "overflow_y": null,
       "padding": null,
       "right": null,
       "top": null,
       "visibility": null,
       "width": null
      }
     },
     "60c31db4895748f5bb2c58a790d67558": {
      "model_module": "@jupyter-widgets/base",
      "model_module_version": "1.2.0",
      "model_name": "LayoutModel",
      "state": {
       "_model_module": "@jupyter-widgets/base",
       "_model_module_version": "1.2.0",
       "_model_name": "LayoutModel",
       "_view_count": null,
       "_view_module": "@jupyter-widgets/base",
       "_view_module_version": "1.2.0",
       "_view_name": "LayoutView",
       "align_content": null,
       "align_items": null,
       "align_self": null,
       "border": null,
       "bottom": null,
       "display": null,
       "flex": null,
       "flex_flow": null,
       "grid_area": null,
       "grid_auto_columns": null,
       "grid_auto_flow": null,
       "grid_auto_rows": null,
       "grid_column": null,
       "grid_gap": null,
       "grid_row": null,
       "grid_template_areas": null,
       "grid_template_columns": null,
       "grid_template_rows": null,
       "height": null,
       "justify_content": null,
       "justify_items": null,
       "left": null,
       "margin": null,
       "max_height": null,
       "max_width": null,
       "min_height": null,
       "min_width": null,
       "object_fit": null,
       "object_position": null,
       "order": null,
       "overflow": null,
       "overflow_x": null,
       "overflow_y": null,
       "padding": null,
       "right": null,
       "top": null,
       "visibility": null,
       "width": null
      }
     },
     "6cebc205ebdc4a71b22fa361fd319d5b": {
      "model_module": "@jupyter-widgets/controls",
      "model_module_version": "1.5.0",
      "model_name": "HTMLModel",
      "state": {
       "_dom_classes": [],
       "_model_module": "@jupyter-widgets/controls",
       "_model_module_version": "1.5.0",
       "_model_name": "HTMLModel",
       "_view_count": null,
       "_view_module": "@jupyter-widgets/controls",
       "_view_module_version": "1.5.0",
       "_view_name": "HTMLView",
       "description": "",
       "description_tooltip": null,
       "layout": "IPY_MODEL_7757961d937e4cf18dc86e4512a08573",
       "placeholder": "​",
       "style": "IPY_MODEL_8739363b3df9454794d9232b8599e986",
       "value": " 5035/5035 [01:40&lt;00:00, 52.73it/s]"
      }
     },
     "71bf99b16dfb4f54a69f246d1a296e3e": {
      "model_module": "@jupyter-widgets/controls",
      "model_module_version": "1.5.0",
      "model_name": "HTMLModel",
      "state": {
       "_dom_classes": [],
       "_model_module": "@jupyter-widgets/controls",
       "_model_module_version": "1.5.0",
       "_model_name": "HTMLModel",
       "_view_count": null,
       "_view_module": "@jupyter-widgets/controls",
       "_view_module_version": "1.5.0",
       "_view_name": "HTMLView",
       "description": "",
       "description_tooltip": null,
       "layout": "IPY_MODEL_3d1f48b26cff4f04abae2a07e3c47b13",
       "placeholder": "​",
       "style": "IPY_MODEL_ee5e3ffd2cd74210b4da22993e38d564",
       "value": "100%"
      }
     },
     "7757961d937e4cf18dc86e4512a08573": {
      "model_module": "@jupyter-widgets/base",
      "model_module_version": "1.2.0",
      "model_name": "LayoutModel",
      "state": {
       "_model_module": "@jupyter-widgets/base",
       "_model_module_version": "1.2.0",
       "_model_name": "LayoutModel",
       "_view_count": null,
       "_view_module": "@jupyter-widgets/base",
       "_view_module_version": "1.2.0",
       "_view_name": "LayoutView",
       "align_content": null,
       "align_items": null,
       "align_self": null,
       "border": null,
       "bottom": null,
       "display": null,
       "flex": null,
       "flex_flow": null,
       "grid_area": null,
       "grid_auto_columns": null,
       "grid_auto_flow": null,
       "grid_auto_rows": null,
       "grid_column": null,
       "grid_gap": null,
       "grid_row": null,
       "grid_template_areas": null,
       "grid_template_columns": null,
       "grid_template_rows": null,
       "height": null,
       "justify_content": null,
       "justify_items": null,
       "left": null,
       "margin": null,
       "max_height": null,
       "max_width": null,
       "min_height": null,
       "min_width": null,
       "object_fit": null,
       "object_position": null,
       "order": null,
       "overflow": null,
       "overflow_x": null,
       "overflow_y": null,
       "padding": null,
       "right": null,
       "top": null,
       "visibility": null,
       "width": null
      }
     },
     "77d35c130a3e4d47a504091e0522320c": {
      "model_module": "@jupyter-widgets/controls",
      "model_module_version": "1.5.0",
      "model_name": "HTMLModel",
      "state": {
       "_dom_classes": [],
       "_model_module": "@jupyter-widgets/controls",
       "_model_module_version": "1.5.0",
       "_model_name": "HTMLModel",
       "_view_count": null,
       "_view_module": "@jupyter-widgets/controls",
       "_view_module_version": "1.5.0",
       "_view_name": "HTMLView",
       "description": "",
       "description_tooltip": null,
       "layout": "IPY_MODEL_c27c00dc6eab40358299845b5e0fd48b",
       "placeholder": "​",
       "style": "IPY_MODEL_31945e2bb4874e4786bce3805c287089",
       "value": " 9978/9978 [00:20&lt;00:00, 506.08it/s]"
      }
     },
     "787e2d1371cc48eb921e9d37045a70af": {
      "model_module": "@jupyter-widgets/controls",
      "model_module_version": "1.5.0",
      "model_name": "ProgressStyleModel",
      "state": {
       "_model_module": "@jupyter-widgets/controls",
       "_model_module_version": "1.5.0",
       "_model_name": "ProgressStyleModel",
       "_view_count": null,
       "_view_module": "@jupyter-widgets/base",
       "_view_module_version": "1.2.0",
       "_view_name": "StyleView",
       "bar_color": null,
       "description_width": ""
      }
     },
     "7d1fd8ebd264420795920fbbf572a7fb": {
      "model_module": "@jupyter-widgets/controls",
      "model_module_version": "1.5.0",
      "model_name": "FloatProgressModel",
      "state": {
       "_dom_classes": [],
       "_model_module": "@jupyter-widgets/controls",
       "_model_module_version": "1.5.0",
       "_model_name": "FloatProgressModel",
       "_view_count": null,
       "_view_module": "@jupyter-widgets/controls",
       "_view_module_version": "1.5.0",
       "_view_name": "ProgressView",
       "bar_style": "success",
       "description": "",
       "description_tooltip": null,
       "layout": "IPY_MODEL_d97b659ee12a49da95ec90987170f42e",
       "max": 9978.0,
       "min": 0.0,
       "orientation": "horizontal",
       "style": "IPY_MODEL_5631de9a06a7464094d6d9f9e52fb3ee",
       "value": 9978.0
      }
     },
     "8739363b3df9454794d9232b8599e986": {
      "model_module": "@jupyter-widgets/controls",
      "model_module_version": "1.5.0",
      "model_name": "DescriptionStyleModel",
      "state": {
       "_model_module": "@jupyter-widgets/controls",
       "_model_module_version": "1.5.0",
       "_model_name": "DescriptionStyleModel",
       "_view_count": null,
       "_view_module": "@jupyter-widgets/base",
       "_view_module_version": "1.2.0",
       "_view_name": "StyleView",
       "description_width": ""
      }
     },
     "8cf131d5235e46e292488709aada9db0": {
      "model_module": "@jupyter-widgets/base",
      "model_module_version": "1.2.0",
      "model_name": "LayoutModel",
      "state": {
       "_model_module": "@jupyter-widgets/base",
       "_model_module_version": "1.2.0",
       "_model_name": "LayoutModel",
       "_view_count": null,
       "_view_module": "@jupyter-widgets/base",
       "_view_module_version": "1.2.0",
       "_view_name": "LayoutView",
       "align_content": null,
       "align_items": null,
       "align_self": null,
       "border": null,
       "bottom": null,
       "display": null,
       "flex": null,
       "flex_flow": null,
       "grid_area": null,
       "grid_auto_columns": null,
       "grid_auto_flow": null,
       "grid_auto_rows": null,
       "grid_column": null,
       "grid_gap": null,
       "grid_row": null,
       "grid_template_areas": null,
       "grid_template_columns": null,
       "grid_template_rows": null,
       "height": null,
       "justify_content": null,
       "justify_items": null,
       "left": null,
       "margin": null,
       "max_height": null,
       "max_width": null,
       "min_height": null,
       "min_width": null,
       "object_fit": null,
       "object_position": null,
       "order": null,
       "overflow": null,
       "overflow_x": null,
       "overflow_y": null,
       "padding": null,
       "right": null,
       "top": null,
       "visibility": null,
       "width": null
      }
     },
     "8d0eac518eea4dafb0e3c9403bdd1b1b": {
      "model_module": "@jupyter-widgets/controls",
      "model_module_version": "1.5.0",
      "model_name": "ProgressStyleModel",
      "state": {
       "_model_module": "@jupyter-widgets/controls",
       "_model_module_version": "1.5.0",
       "_model_name": "ProgressStyleModel",
       "_view_count": null,
       "_view_module": "@jupyter-widgets/base",
       "_view_module_version": "1.2.0",
       "_view_name": "StyleView",
       "bar_color": null,
       "description_width": ""
      }
     },
     "901f327b52e54db491ace23b6cbe8d1c": {
      "model_module": "@jupyter-widgets/base",
      "model_module_version": "1.2.0",
      "model_name": "LayoutModel",
      "state": {
       "_model_module": "@jupyter-widgets/base",
       "_model_module_version": "1.2.0",
       "_model_name": "LayoutModel",
       "_view_count": null,
       "_view_module": "@jupyter-widgets/base",
       "_view_module_version": "1.2.0",
       "_view_name": "LayoutView",
       "align_content": null,
       "align_items": null,
       "align_self": null,
       "border": null,
       "bottom": null,
       "display": null,
       "flex": null,
       "flex_flow": null,
       "grid_area": null,
       "grid_auto_columns": null,
       "grid_auto_flow": null,
       "grid_auto_rows": null,
       "grid_column": null,
       "grid_gap": null,
       "grid_row": null,
       "grid_template_areas": null,
       "grid_template_columns": null,
       "grid_template_rows": null,
       "height": null,
       "justify_content": null,
       "justify_items": null,
       "left": null,
       "margin": null,
       "max_height": null,
       "max_width": null,
       "min_height": null,
       "min_width": null,
       "object_fit": null,
       "object_position": null,
       "order": null,
       "overflow": null,
       "overflow_x": null,
       "overflow_y": null,
       "padding": null,
       "right": null,
       "top": null,
       "visibility": null,
       "width": null
      }
     },
     "948252fe9bc142a7a0743a8a8d54b23e": {
      "model_module": "@jupyter-widgets/controls",
      "model_module_version": "1.5.0",
      "model_name": "HBoxModel",
      "state": {
       "_dom_classes": [],
       "_model_module": "@jupyter-widgets/controls",
       "_model_module_version": "1.5.0",
       "_model_name": "HBoxModel",
       "_view_count": null,
       "_view_module": "@jupyter-widgets/controls",
       "_view_module_version": "1.5.0",
       "_view_name": "HBoxView",
       "box_style": "",
       "children": [
        "IPY_MODEL_58f3a71ccc0d4e59bf52cb20326c9fdb",
        "IPY_MODEL_dea2405d590e4aa784e83b2039663ead",
        "IPY_MODEL_1da8465d23374e67a484a160ffd3b6e0"
       ],
       "layout": "IPY_MODEL_48909454d82341baae2fbdeb171b0f83"
      }
     },
     "9d51932205d54fdaaf1c877646cf7fe0": {
      "model_module": "@jupyter-widgets/controls",
      "model_module_version": "1.5.0",
      "model_name": "DescriptionStyleModel",
      "state": {
       "_model_module": "@jupyter-widgets/controls",
       "_model_module_version": "1.5.0",
       "_model_name": "DescriptionStyleModel",
       "_view_count": null,
       "_view_module": "@jupyter-widgets/base",
       "_view_module_version": "1.2.0",
       "_view_name": "StyleView",
       "description_width": ""
      }
     },
     "9e9b4dcfec7545628f2e6190dae17c66": {
      "model_module": "@jupyter-widgets/base",
      "model_module_version": "1.2.0",
      "model_name": "LayoutModel",
      "state": {
       "_model_module": "@jupyter-widgets/base",
       "_model_module_version": "1.2.0",
       "_model_name": "LayoutModel",
       "_view_count": null,
       "_view_module": "@jupyter-widgets/base",
       "_view_module_version": "1.2.0",
       "_view_name": "LayoutView",
       "align_content": null,
       "align_items": null,
       "align_self": null,
       "border": null,
       "bottom": null,
       "display": null,
       "flex": null,
       "flex_flow": null,
       "grid_area": null,
       "grid_auto_columns": null,
       "grid_auto_flow": null,
       "grid_auto_rows": null,
       "grid_column": null,
       "grid_gap": null,
       "grid_row": null,
       "grid_template_areas": null,
       "grid_template_columns": null,
       "grid_template_rows": null,
       "height": null,
       "justify_content": null,
       "justify_items": null,
       "left": null,
       "margin": null,
       "max_height": null,
       "max_width": null,
       "min_height": null,
       "min_width": null,
       "object_fit": null,
       "object_position": null,
       "order": null,
       "overflow": null,
       "overflow_x": null,
       "overflow_y": null,
       "padding": null,
       "right": null,
       "top": null,
       "visibility": null,
       "width": null
      }
     },
     "a358c94f19914cfda24969c4e9b1f7a5": {
      "model_module": "@jupyter-widgets/controls",
      "model_module_version": "1.5.0",
      "model_name": "HBoxModel",
      "state": {
       "_dom_classes": [],
       "_model_module": "@jupyter-widgets/controls",
       "_model_module_version": "1.5.0",
       "_model_name": "HBoxModel",
       "_view_count": null,
       "_view_module": "@jupyter-widgets/controls",
       "_view_module_version": "1.5.0",
       "_view_name": "HBoxView",
       "box_style": "",
       "children": [
        "IPY_MODEL_4369296f32d049759fba1bc962d70df1",
        "IPY_MODEL_39bfdc5c67c140b486e56f3a45fbc8ba",
        "IPY_MODEL_6cebc205ebdc4a71b22fa361fd319d5b"
       ],
       "layout": "IPY_MODEL_06c8436e458f4fa396732759a6980833"
      }
     },
     "b440411a1c264cf589e42c3ea6399f2f": {
      "model_module": "@jupyter-widgets/controls",
      "model_module_version": "1.5.0",
      "model_name": "DescriptionStyleModel",
      "state": {
       "_model_module": "@jupyter-widgets/controls",
       "_model_module_version": "1.5.0",
       "_model_name": "DescriptionStyleModel",
       "_view_count": null,
       "_view_module": "@jupyter-widgets/base",
       "_view_module_version": "1.2.0",
       "_view_name": "StyleView",
       "description_width": ""
      }
     },
     "c1abd91cc56d4b6f9078280423e4aa65": {
      "model_module": "@jupyter-widgets/controls",
      "model_module_version": "1.5.0",
      "model_name": "HTMLModel",
      "state": {
       "_dom_classes": [],
       "_model_module": "@jupyter-widgets/controls",
       "_model_module_version": "1.5.0",
       "_model_name": "HTMLModel",
       "_view_count": null,
       "_view_module": "@jupyter-widgets/controls",
       "_view_module_version": "1.5.0",
       "_view_name": "HTMLView",
       "description": "",
       "description_tooltip": null,
       "layout": "IPY_MODEL_163f6d875e334e68ab3326be111047f3",
       "placeholder": "​",
       "style": "IPY_MODEL_e76f255eeb53418baef12260c0c47523",
       "value": " 9978/9978 [01:20&lt;00:00, 137.16it/s]"
      }
     },
     "c27c00dc6eab40358299845b5e0fd48b": {
      "model_module": "@jupyter-widgets/base",
      "model_module_version": "1.2.0",
      "model_name": "LayoutModel",
      "state": {
       "_model_module": "@jupyter-widgets/base",
       "_model_module_version": "1.2.0",
       "_model_name": "LayoutModel",
       "_view_count": null,
       "_view_module": "@jupyter-widgets/base",
       "_view_module_version": "1.2.0",
       "_view_name": "LayoutView",
       "align_content": null,
       "align_items": null,
       "align_self": null,
       "border": null,
       "bottom": null,
       "display": null,
       "flex": null,
       "flex_flow": null,
       "grid_area": null,
       "grid_auto_columns": null,
       "grid_auto_flow": null,
       "grid_auto_rows": null,
       "grid_column": null,
       "grid_gap": null,
       "grid_row": null,
       "grid_template_areas": null,
       "grid_template_columns": null,
       "grid_template_rows": null,
       "height": null,
       "justify_content": null,
       "justify_items": null,
       "left": null,
       "margin": null,
       "max_height": null,
       "max_width": null,
       "min_height": null,
       "min_width": null,
       "object_fit": null,
       "object_position": null,
       "order": null,
       "overflow": null,
       "overflow_x": null,
       "overflow_y": null,
       "padding": null,
       "right": null,
       "top": null,
       "visibility": null,
       "width": null
      }
     },
     "c346c96595b94967a49063c8ee4b51a9": {
      "model_module": "@jupyter-widgets/controls",
      "model_module_version": "1.5.0",
      "model_name": "ProgressStyleModel",
      "state": {
       "_model_module": "@jupyter-widgets/controls",
       "_model_module_version": "1.5.0",
       "_model_name": "ProgressStyleModel",
       "_view_count": null,
       "_view_module": "@jupyter-widgets/base",
       "_view_module_version": "1.2.0",
       "_view_name": "StyleView",
       "bar_color": null,
       "description_width": ""
      }
     },
     "d97b659ee12a49da95ec90987170f42e": {
      "model_module": "@jupyter-widgets/base",
      "model_module_version": "1.2.0",
      "model_name": "LayoutModel",
      "state": {
       "_model_module": "@jupyter-widgets/base",
       "_model_module_version": "1.2.0",
       "_model_name": "LayoutModel",
       "_view_count": null,
       "_view_module": "@jupyter-widgets/base",
       "_view_module_version": "1.2.0",
       "_view_name": "LayoutView",
       "align_content": null,
       "align_items": null,
       "align_self": null,
       "border": null,
       "bottom": null,
       "display": null,
       "flex": null,
       "flex_flow": null,
       "grid_area": null,
       "grid_auto_columns": null,
       "grid_auto_flow": null,
       "grid_auto_rows": null,
       "grid_column": null,
       "grid_gap": null,
       "grid_row": null,
       "grid_template_areas": null,
       "grid_template_columns": null,
       "grid_template_rows": null,
       "height": null,
       "justify_content": null,
       "justify_items": null,
       "left": null,
       "margin": null,
       "max_height": null,
       "max_width": null,
       "min_height": null,
       "min_width": null,
       "object_fit": null,
       "object_position": null,
       "order": null,
       "overflow": null,
       "overflow_x": null,
       "overflow_y": null,
       "padding": null,
       "right": null,
       "top": null,
       "visibility": null,
       "width": null
      }
     },
     "dea2405d590e4aa784e83b2039663ead": {
      "model_module": "@jupyter-widgets/controls",
      "model_module_version": "1.5.0",
      "model_name": "FloatProgressModel",
      "state": {
       "_dom_classes": [],
       "_model_module": "@jupyter-widgets/controls",
       "_model_module_version": "1.5.0",
       "_model_name": "FloatProgressModel",
       "_view_count": null,
       "_view_module": "@jupyter-widgets/controls",
       "_view_module_version": "1.5.0",
       "_view_name": "ProgressView",
       "bar_style": "",
       "description": "",
       "description_tooltip": null,
       "layout": "IPY_MODEL_440c2313cd8e4028b2989f9b7e657247",
       "max": 9978.0,
       "min": 0.0,
       "orientation": "horizontal",
       "style": "IPY_MODEL_c346c96595b94967a49063c8ee4b51a9",
       "value": 9978.0
      }
     },
     "e41f64ca5a3d441b8d129ed4bb7c6687": {
      "model_module": "@jupyter-widgets/base",
      "model_module_version": "1.2.0",
      "model_name": "LayoutModel",
      "state": {
       "_model_module": "@jupyter-widgets/base",
       "_model_module_version": "1.2.0",
       "_model_name": "LayoutModel",
       "_view_count": null,
       "_view_module": "@jupyter-widgets/base",
       "_view_module_version": "1.2.0",
       "_view_name": "LayoutView",
       "align_content": null,
       "align_items": null,
       "align_self": null,
       "border": null,
       "bottom": null,
       "display": null,
       "flex": null,
       "flex_flow": null,
       "grid_area": null,
       "grid_auto_columns": null,
       "grid_auto_flow": null,
       "grid_auto_rows": null,
       "grid_column": null,
       "grid_gap": null,
       "grid_row": null,
       "grid_template_areas": null,
       "grid_template_columns": null,
       "grid_template_rows": null,
       "height": null,
       "justify_content": null,
       "justify_items": null,
       "left": null,
       "margin": null,
       "max_height": null,
       "max_width": null,
       "min_height": null,
       "min_width": null,
       "object_fit": null,
       "object_position": null,
       "order": null,
       "overflow": null,
       "overflow_x": null,
       "overflow_y": null,
       "padding": null,
       "right": null,
       "top": null,
       "visibility": null,
       "width": null
      }
     },
     "e588ac8f5ad84f939bc8d6064ac8f6f2": {
      "model_module": "@jupyter-widgets/controls",
      "model_module_version": "1.5.0",
      "model_name": "HTMLModel",
      "state": {
       "_dom_classes": [],
       "_model_module": "@jupyter-widgets/controls",
       "_model_module_version": "1.5.0",
       "_model_name": "HTMLModel",
       "_view_count": null,
       "_view_module": "@jupyter-widgets/controls",
       "_view_module_version": "1.5.0",
       "_view_name": "HTMLView",
       "description": "",
       "description_tooltip": null,
       "layout": "IPY_MODEL_51d9de23e4bb4470b84c4970b4059217",
       "placeholder": "​",
       "style": "IPY_MODEL_0dcc77067d164fec8d368ee1d72df030",
       "value": " 4943/4943 [01:37&lt;00:00, 45.84it/s]"
      }
     },
     "e76f255eeb53418baef12260c0c47523": {
      "model_module": "@jupyter-widgets/controls",
      "model_module_version": "1.5.0",
      "model_name": "DescriptionStyleModel",
      "state": {
       "_model_module": "@jupyter-widgets/controls",
       "_model_module_version": "1.5.0",
       "_model_name": "DescriptionStyleModel",
       "_view_count": null,
       "_view_module": "@jupyter-widgets/base",
       "_view_module_version": "1.2.0",
       "_view_name": "StyleView",
       "description_width": ""
      }
     },
     "e989dd8bbfd640d8af248951fa743aa1": {
      "model_module": "@jupyter-widgets/controls",
      "model_module_version": "1.5.0",
      "model_name": "DescriptionStyleModel",
      "state": {
       "_model_module": "@jupyter-widgets/controls",
       "_model_module_version": "1.5.0",
       "_model_name": "DescriptionStyleModel",
       "_view_count": null,
       "_view_module": "@jupyter-widgets/base",
       "_view_module_version": "1.2.0",
       "_view_name": "StyleView",
       "description_width": ""
      }
     },
     "eb18f251ec404dfc83c565b3a0fab1a5": {
      "model_module": "@jupyter-widgets/controls",
      "model_module_version": "1.5.0",
      "model_name": "HTMLModel",
      "state": {
       "_dom_classes": [],
       "_model_module": "@jupyter-widgets/controls",
       "_model_module_version": "1.5.0",
       "_model_name": "HTMLModel",
       "_view_count": null,
       "_view_module": "@jupyter-widgets/controls",
       "_view_module_version": "1.5.0",
       "_view_name": "HTMLView",
       "description": "",
       "description_tooltip": null,
       "layout": "IPY_MODEL_8cf131d5235e46e292488709aada9db0",
       "placeholder": "​",
       "style": "IPY_MODEL_267e09cbc3df40e2bdc567e80c5d8e2a",
       "value": "100%"
      }
     },
     "ee5e3ffd2cd74210b4da22993e38d564": {
      "model_module": "@jupyter-widgets/controls",
      "model_module_version": "1.5.0",
      "model_name": "DescriptionStyleModel",
      "state": {
       "_model_module": "@jupyter-widgets/controls",
       "_model_module_version": "1.5.0",
       "_model_name": "DescriptionStyleModel",
       "_view_count": null,
       "_view_module": "@jupyter-widgets/base",
       "_view_module_version": "1.2.0",
       "_view_name": "StyleView",
       "description_width": ""
      }
     },
     "f3ae025d035f42d49a062ee16a4de346": {
      "model_module": "@jupyter-widgets/controls",
      "model_module_version": "1.5.0",
      "model_name": "DescriptionStyleModel",
      "state": {
       "_model_module": "@jupyter-widgets/controls",
       "_model_module_version": "1.5.0",
       "_model_name": "DescriptionStyleModel",
       "_view_count": null,
       "_view_module": "@jupyter-widgets/base",
       "_view_module_version": "1.2.0",
       "_view_name": "StyleView",
       "description_width": ""
      }
     },
     "f52bbff3b44f4ffa94437b13321f89c7": {
      "model_module": "@jupyter-widgets/base",
      "model_module_version": "1.2.0",
      "model_name": "LayoutModel",
      "state": {
       "_model_module": "@jupyter-widgets/base",
       "_model_module_version": "1.2.0",
       "_model_name": "LayoutModel",
       "_view_count": null,
       "_view_module": "@jupyter-widgets/base",
       "_view_module_version": "1.2.0",
       "_view_name": "LayoutView",
       "align_content": null,
       "align_items": null,
       "align_self": null,
       "border": null,
       "bottom": null,
       "display": null,
       "flex": null,
       "flex_flow": null,
       "grid_area": null,
       "grid_auto_columns": null,
       "grid_auto_flow": null,
       "grid_auto_rows": null,
       "grid_column": null,
       "grid_gap": null,
       "grid_row": null,
       "grid_template_areas": null,
       "grid_template_columns": null,
       "grid_template_rows": null,
       "height": null,
       "justify_content": null,
       "justify_items": null,
       "left": null,
       "margin": null,
       "max_height": null,
       "max_width": null,
       "min_height": null,
       "min_width": null,
       "object_fit": null,
       "object_position": null,
       "order": null,
       "overflow": null,
       "overflow_x": null,
       "overflow_y": null,
       "padding": null,
       "right": null,
       "top": null,
       "visibility": null,
       "width": null
      }
     },
     "f860ff8939a84c1bb4fbb6e46c723541": {
      "model_module": "@jupyter-widgets/controls",
      "model_module_version": "1.5.0",
      "model_name": "HTMLModel",
      "state": {
       "_dom_classes": [],
       "_model_module": "@jupyter-widgets/controls",
       "_model_module_version": "1.5.0",
       "_model_name": "HTMLModel",
       "_view_count": null,
       "_view_module": "@jupyter-widgets/controls",
       "_view_module_version": "1.5.0",
       "_view_name": "HTMLView",
       "description": "",
       "description_tooltip": null,
       "layout": "IPY_MODEL_1aa4805905a14f4099fdf2f86b31c2a3",
       "placeholder": "​",
       "style": "IPY_MODEL_9d51932205d54fdaaf1c877646cf7fe0",
       "value": "100%"
      }
     }
    },
    "version_major": 2,
    "version_minor": 0
   }
  }
 },
 "nbformat": 4,
 "nbformat_minor": 5
}
